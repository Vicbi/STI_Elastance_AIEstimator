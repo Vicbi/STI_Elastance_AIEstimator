{
 "cells": [
  {
   "cell_type": "code",
   "execution_count": null,
   "metadata": {},
   "outputs": [],
   "source": [
    "import pandas as pd\n",
    "import numpy as np\n",
    "from sklearn.model_selection import train_test_split\n",
    "import matplotlib.pyplot as plt\n",
    "import sklearn\n",
    "import pickle \n",
    "\n",
    "from Utilities.utils import *\n",
    "from Utilities.plot_functions import *"
   ]
  },
  {
   "cell_type": "markdown",
   "metadata": {},
   "source": [
    "# Define Experiment Characteristics"
   ]
  },
  {
   "cell_type": "code",
   "execution_count": null,
   "metadata": {},
   "outputs": [],
   "source": [
    "# Select the prediction variable, e.g., 'Ees', 'dead_volume'\n",
    "prediction_variable = 'Ees'  \n",
    "variable_unit = 'mmHg/mL'\n",
    "\n",
    "# Set XGB as the regression method\n",
    "regressor = 'XGB'     \n",
    "\n",
    "# Select input features\n",
    "input_selection = 'M3'\n",
    "\n",
    "# Enable noise addition, select noise level, e.g., 10 %, 20 %, 30 %, and select the noisy features, e.g., 'STI' or 'BP'\n",
    "noise_mode = False\n",
    "noise_level = 10\n",
    "noisy_features = 'STI'\n",
    "\n",
    "# Enable figure saving\n",
    "save_figure_boolean = False \n",
    "\n",
    "experiment_type = 'insilico_{}'.format(input_selection)    # Set the type of data being used in the analysis"
   ]
  },
  {
   "cell_type": "markdown",
   "metadata": {},
   "source": [
    "# Load & Prepare Data for Analysis"
   ]
  },
  {
   "cell_type": "code",
   "execution_count": null,
   "metadata": {
    "tags": []
   },
   "outputs": [],
   "source": [
    "dataset = pd.read_csv('Data/insilico_elastance_data.csv')\n",
    "dataset = select_columns_based_on_input(dataset, input_selection, prediction_variable)       \n",
    "\n",
    "dataset_scaled = scale_data(dataset)\n",
    "noisy_dataset = add_random_noise(dataset_scaled, noise_level, noisy_features, input_selection,noise_mode)\n",
    "\n",
    "print(dataset.shape)\n",
    "dataset.head()"
   ]
  },
  {
   "cell_type": "markdown",
   "metadata": {},
   "source": [
    "# Regression Analysis"
   ]
  },
  {
   "cell_type": "code",
   "execution_count": null,
   "metadata": {},
   "outputs": [],
   "source": [
    "X, y = split_features_target(noisy_dataset)\n",
    "\n",
    "# Load saved train and test indices\n",
    "# train_indices, test_indices = load_train_test_indices()\n",
    "\n",
    "indices = np.arange(len(X))\n",
    "X_train, X_test, y_train, y_test,train_indices, test_indices = train_test_split(X, y, indices,test_size=0.3, random_state=42)\n",
    "X_train = X[train_indices]; y_train = y[train_indices]\n",
    "X_test = X[test_indices]; y_test = y[test_indices]\n",
    "\n",
    "print('The train set size is:', X_train.shape)\n",
    "print('The test set size is:', X_test.shape)\n",
    "\n",
    "# model, y_pred, best_parameters = hyperparameter_tuning(X_train, X_test, y_train, y_test,regressor) \n",
    "model, y_pred = elastance_xgb_regressor(X_train,X_test,y_train,y_test,prediction_variable, input_selection)\n",
    "\n",
    "rescaled_y_test = rescale_values(y_test, prediction_variable, dataset)\n",
    "rescaled_y_pred = rescale_values(y_pred, prediction_variable, dataset)\n",
    "\n",
    "print_results(rescaled_y_test, rescaled_y_pred, variable_unit)    \n",
    "plot_data(rescaled_y_test, rescaled_y_pred, experiment_type,prediction_variable,regressor,save_figure_boolean)"
   ]
  },
  {
   "cell_type": "markdown",
   "metadata": {},
   "source": [
    "# Calculate Learning Curves"
   ]
  },
  {
   "cell_type": "code",
   "execution_count": null,
   "metadata": {},
   "outputs": [],
   "source": [
    "# Define the XGBoost model using optimized hyperparameters\n",
    "xgb_model = set_xgboost_params(prediction_variable, input_selection)\n",
    "\n",
    "# Define the cross-validation strategy\n",
    "cv = 5\n",
    "\n",
    "# Define the train sizes for learning curve\n",
    "train_sizes = np.linspace(0.01, 1.0, 50)\n",
    "\n",
    "# Define the scoring metric (e.g., 'neg_mean_squared_error')\n",
    "scoring = 'neg_mean_squared_error'\n",
    "\n",
    "# Plot the learning curve\n",
    "plot_learning_curve(xgb_model, \"Learning Curve\", X, y, cv=cv, train_sizes=train_sizes, scoring=scoring)\n",
    "\n",
    "# Show the plot\n",
    "plt.show()"
   ]
  }
 ],
 "metadata": {
  "kernelspec": {
   "display_name": "Python 3 (ipykernel)",
   "language": "python",
   "name": "python3"
  },
  "language_info": {
   "codemirror_mode": {
    "name": "ipython",
    "version": 3
   },
   "file_extension": ".py",
   "mimetype": "text/x-python",
   "name": "python",
   "nbconvert_exporter": "python",
   "pygments_lexer": "ipython3",
   "version": "3.7.16"
  }
 },
 "nbformat": 4,
 "nbformat_minor": 4
}
